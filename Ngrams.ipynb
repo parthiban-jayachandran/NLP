{
 "cells": [
  {
   "cell_type": "markdown",
   "metadata": {},
   "source": [
    "### ngrams"
   ]
  },
  {
   "cell_type": "code",
   "execution_count": 1,
   "metadata": {},
   "outputs": [],
   "source": [
    "import obonet"
   ]
  },
  {
   "cell_type": "code",
   "execution_count": 2,
   "metadata": {},
   "outputs": [],
   "source": [
    "def getNgrams(wordlist,n):\n",
    "    ngrams = []\n",
    "    for i in range(len(wordlist)-(n-1)):\n",
    "        ngrams.append(wordlist[i:i+n])\n",
    "    return ngrams"
   ]
  },
  {
   "cell_type": "code",
   "execution_count": 3,
   "metadata": {},
   "outputs": [
    {
     "name": "stdout",
     "output_type": "stream",
     "text": [
      "['A', 'wealth', 'of', 'knowledge', 'valuable', 'to', 'the', 'translational', 'research', 'scientist', 'is', 'contained', 'within', 'the', 'vast', 'biomedical', 'literatureCorpus,', 'a', 'collection', 'of', '97', 'full-text', 'biomedical', 'journal', 'articles', 'that', 'are', 'being', 'manually', 'annotated', 'with', 'the', 'entire', 'sets', 'of', 'terms', 'from', 'select', 'vocabularies,', 'predominantly', 'from', 'the', 'Open', 'Biomedical', 'Ontologies', '(OBO)', 'library.']\n"
     ]
    }
   ],
   "source": [
    "sent1 = 'A wealth of knowledge valuable to the translational research scientist is contained within the vast biomedical literature'\n",
    "sent1 += 'Corpus, a collection of 97 full-text biomedical journal articles that are being manually annotated with the entire sets of terms from select vocabularies, predominantly from the Open Biomedical Ontologies (OBO) library.'\n",
    "\n",
    "allword = sent1.split()\n",
    "print(allword)"
   ]
  },
  {
   "cell_type": "code",
   "execution_count": 4,
   "metadata": {},
   "outputs": [
    {
     "data": {
      "text/plain": [
       "[['A', 'wealth', 'of'],\n",
       " ['wealth', 'of', 'knowledge'],\n",
       " ['of', 'knowledge', 'valuable'],\n",
       " ['knowledge', 'valuable', 'to'],\n",
       " ['valuable', 'to', 'the'],\n",
       " ['to', 'the', 'translational'],\n",
       " ['the', 'translational', 'research'],\n",
       " ['translational', 'research', 'scientist'],\n",
       " ['research', 'scientist', 'is'],\n",
       " ['scientist', 'is', 'contained'],\n",
       " ['is', 'contained', 'within'],\n",
       " ['contained', 'within', 'the'],\n",
       " ['within', 'the', 'vast'],\n",
       " ['the', 'vast', 'biomedical'],\n",
       " ['vast', 'biomedical', 'literatureCorpus,'],\n",
       " ['biomedical', 'literatureCorpus,', 'a'],\n",
       " ['literatureCorpus,', 'a', 'collection'],\n",
       " ['a', 'collection', 'of'],\n",
       " ['collection', 'of', '97'],\n",
       " ['of', '97', 'full-text'],\n",
       " ['97', 'full-text', 'biomedical'],\n",
       " ['full-text', 'biomedical', 'journal'],\n",
       " ['biomedical', 'journal', 'articles'],\n",
       " ['journal', 'articles', 'that'],\n",
       " ['articles', 'that', 'are'],\n",
       " ['that', 'are', 'being'],\n",
       " ['are', 'being', 'manually'],\n",
       " ['being', 'manually', 'annotated'],\n",
       " ['manually', 'annotated', 'with'],\n",
       " ['annotated', 'with', 'the'],\n",
       " ['with', 'the', 'entire'],\n",
       " ['the', 'entire', 'sets'],\n",
       " ['entire', 'sets', 'of'],\n",
       " ['sets', 'of', 'terms'],\n",
       " ['of', 'terms', 'from'],\n",
       " ['terms', 'from', 'select'],\n",
       " ['from', 'select', 'vocabularies,'],\n",
       " ['select', 'vocabularies,', 'predominantly'],\n",
       " ['vocabularies,', 'predominantly', 'from'],\n",
       " ['predominantly', 'from', 'the'],\n",
       " ['from', 'the', 'Open'],\n",
       " ['the', 'Open', 'Biomedical'],\n",
       " ['Open', 'Biomedical', 'Ontologies'],\n",
       " ['Biomedical', 'Ontologies', '(OBO)'],\n",
       " ['Ontologies', '(OBO)', 'library.']]"
      ]
     },
     "execution_count": 4,
     "metadata": {},
     "output_type": "execute_result"
    }
   ],
   "source": [
    "getNgrams(sent1.split(),3)"
   ]
  },
  {
   "cell_type": "code",
   "execution_count": 5,
   "metadata": {},
   "outputs": [
    {
     "data": {
      "text/plain": [
       "[['A', 'wealth', 'of', 'knowledge'],\n",
       " ['wealth', 'of', 'knowledge', 'valuable'],\n",
       " ['of', 'knowledge', 'valuable', 'to'],\n",
       " ['knowledge', 'valuable', 'to', 'the'],\n",
       " ['valuable', 'to', 'the', 'translational'],\n",
       " ['to', 'the', 'translational', 'research'],\n",
       " ['the', 'translational', 'research', 'scientist'],\n",
       " ['translational', 'research', 'scientist', 'is'],\n",
       " ['research', 'scientist', 'is', 'contained'],\n",
       " ['scientist', 'is', 'contained', 'within'],\n",
       " ['is', 'contained', 'within', 'the'],\n",
       " ['contained', 'within', 'the', 'vast'],\n",
       " ['within', 'the', 'vast', 'biomedical'],\n",
       " ['the', 'vast', 'biomedical', 'literatureCorpus,'],\n",
       " ['vast', 'biomedical', 'literatureCorpus,', 'a'],\n",
       " ['biomedical', 'literatureCorpus,', 'a', 'collection'],\n",
       " ['literatureCorpus,', 'a', 'collection', 'of'],\n",
       " ['a', 'collection', 'of', '97'],\n",
       " ['collection', 'of', '97', 'full-text'],\n",
       " ['of', '97', 'full-text', 'biomedical'],\n",
       " ['97', 'full-text', 'biomedical', 'journal'],\n",
       " ['full-text', 'biomedical', 'journal', 'articles'],\n",
       " ['biomedical', 'journal', 'articles', 'that'],\n",
       " ['journal', 'articles', 'that', 'are'],\n",
       " ['articles', 'that', 'are', 'being'],\n",
       " ['that', 'are', 'being', 'manually'],\n",
       " ['are', 'being', 'manually', 'annotated'],\n",
       " ['being', 'manually', 'annotated', 'with'],\n",
       " ['manually', 'annotated', 'with', 'the'],\n",
       " ['annotated', 'with', 'the', 'entire'],\n",
       " ['with', 'the', 'entire', 'sets'],\n",
       " ['the', 'entire', 'sets', 'of'],\n",
       " ['entire', 'sets', 'of', 'terms'],\n",
       " ['sets', 'of', 'terms', 'from'],\n",
       " ['of', 'terms', 'from', 'select'],\n",
       " ['terms', 'from', 'select', 'vocabularies,'],\n",
       " ['from', 'select', 'vocabularies,', 'predominantly'],\n",
       " ['select', 'vocabularies,', 'predominantly', 'from'],\n",
       " ['vocabularies,', 'predominantly', 'from', 'the'],\n",
       " ['predominantly', 'from', 'the', 'Open'],\n",
       " ['from', 'the', 'Open', 'Biomedical'],\n",
       " ['the', 'Open', 'Biomedical', 'Ontologies'],\n",
       " ['Open', 'Biomedical', 'Ontologies', '(OBO)'],\n",
       " ['Biomedical', 'Ontologies', '(OBO)', 'library.']]"
      ]
     },
     "execution_count": 5,
     "metadata": {},
     "output_type": "execute_result"
    }
   ],
   "source": [
    "getNgrams(sent1.split(),4)"
   ]
  },
  {
   "cell_type": "code",
   "execution_count": 6,
   "metadata": {},
   "outputs": [
    {
     "data": {
      "text/plain": [
       "[['A', 'wealth', 'of', 'knowledge', 'valuable', 'to'],\n",
       " ['wealth', 'of', 'knowledge', 'valuable', 'to', 'the'],\n",
       " ['of', 'knowledge', 'valuable', 'to', 'the', 'translational'],\n",
       " ['knowledge', 'valuable', 'to', 'the', 'translational', 'research'],\n",
       " ['valuable', 'to', 'the', 'translational', 'research', 'scientist'],\n",
       " ['to', 'the', 'translational', 'research', 'scientist', 'is'],\n",
       " ['the', 'translational', 'research', 'scientist', 'is', 'contained'],\n",
       " ['translational', 'research', 'scientist', 'is', 'contained', 'within'],\n",
       " ['research', 'scientist', 'is', 'contained', 'within', 'the'],\n",
       " ['scientist', 'is', 'contained', 'within', 'the', 'vast'],\n",
       " ['is', 'contained', 'within', 'the', 'vast', 'biomedical'],\n",
       " ['contained', 'within', 'the', 'vast', 'biomedical', 'literatureCorpus,'],\n",
       " ['within', 'the', 'vast', 'biomedical', 'literatureCorpus,', 'a'],\n",
       " ['the', 'vast', 'biomedical', 'literatureCorpus,', 'a', 'collection'],\n",
       " ['vast', 'biomedical', 'literatureCorpus,', 'a', 'collection', 'of'],\n",
       " ['biomedical', 'literatureCorpus,', 'a', 'collection', 'of', '97'],\n",
       " ['literatureCorpus,', 'a', 'collection', 'of', '97', 'full-text'],\n",
       " ['a', 'collection', 'of', '97', 'full-text', 'biomedical'],\n",
       " ['collection', 'of', '97', 'full-text', 'biomedical', 'journal'],\n",
       " ['of', '97', 'full-text', 'biomedical', 'journal', 'articles'],\n",
       " ['97', 'full-text', 'biomedical', 'journal', 'articles', 'that'],\n",
       " ['full-text', 'biomedical', 'journal', 'articles', 'that', 'are'],\n",
       " ['biomedical', 'journal', 'articles', 'that', 'are', 'being'],\n",
       " ['journal', 'articles', 'that', 'are', 'being', 'manually'],\n",
       " ['articles', 'that', 'are', 'being', 'manually', 'annotated'],\n",
       " ['that', 'are', 'being', 'manually', 'annotated', 'with'],\n",
       " ['are', 'being', 'manually', 'annotated', 'with', 'the'],\n",
       " ['being', 'manually', 'annotated', 'with', 'the', 'entire'],\n",
       " ['manually', 'annotated', 'with', 'the', 'entire', 'sets'],\n",
       " ['annotated', 'with', 'the', 'entire', 'sets', 'of'],\n",
       " ['with', 'the', 'entire', 'sets', 'of', 'terms'],\n",
       " ['the', 'entire', 'sets', 'of', 'terms', 'from'],\n",
       " ['entire', 'sets', 'of', 'terms', 'from', 'select'],\n",
       " ['sets', 'of', 'terms', 'from', 'select', 'vocabularies,'],\n",
       " ['of', 'terms', 'from', 'select', 'vocabularies,', 'predominantly'],\n",
       " ['terms', 'from', 'select', 'vocabularies,', 'predominantly', 'from'],\n",
       " ['from', 'select', 'vocabularies,', 'predominantly', 'from', 'the'],\n",
       " ['select', 'vocabularies,', 'predominantly', 'from', 'the', 'Open'],\n",
       " ['vocabularies,', 'predominantly', 'from', 'the', 'Open', 'Biomedical'],\n",
       " ['predominantly', 'from', 'the', 'Open', 'Biomedical', 'Ontologies'],\n",
       " ['from', 'the', 'Open', 'Biomedical', 'Ontologies', '(OBO)'],\n",
       " ['the', 'Open', 'Biomedical', 'Ontologies', '(OBO)', 'library.']]"
      ]
     },
     "execution_count": 6,
     "metadata": {},
     "output_type": "execute_result"
    }
   ],
   "source": [
    "getNgrams(sent1.split(),6)"
   ]
  },
  {
   "cell_type": "code",
   "execution_count": 7,
   "metadata": {},
   "outputs": [],
   "source": [
    "import heapq"
   ]
  },
  {
   "cell_type": "code",
   "execution_count": null,
   "metadata": {},
   "outputs": [],
   "source": []
  }
 ],
 "metadata": {
  "kernelspec": {
   "display_name": "Python 3",
   "language": "python",
   "name": "python3"
  },
  "language_info": {
   "codemirror_mode": {
    "name": "ipython",
    "version": 3
   },
   "file_extension": ".py",
   "mimetype": "text/x-python",
   "name": "python",
   "nbconvert_exporter": "python",
   "pygments_lexer": "ipython3",
   "version": "3.7.6"
  }
 },
 "nbformat": 4,
 "nbformat_minor": 4
}
